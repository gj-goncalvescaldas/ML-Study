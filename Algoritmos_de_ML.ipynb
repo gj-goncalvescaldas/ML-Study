{
 "cells": [
  {
   "cell_type": "markdown",
   "id": "8148fddf",
   "metadata": {},
   "source": []
  },
  {
   "cell_type": "markdown",
   "id": "ef29b0b4",
   "metadata": {},
   "source": [
    "\n"
   ]
  },
  {
   "cell_type": "markdown",
   "id": "2219a093",
   "metadata": {},
   "source": [
    "## Preprocesamiento de Datos"
   ]
  },
  {
   "cell_type": "code",
   "execution_count": null,
   "id": "c963def6",
   "metadata": {},
   "outputs": [],
   "source": [
    "\n",
    "\n"
   ]
  },
  {
   "cell_type": "code",
   "execution_count": null,
   "id": "bcc1efb6",
   "metadata": {},
   "outputs": [],
   "source": [
    "import numpy as np"
   ]
  },
  {
   "cell_type": "code",
   "execution_count": null,
   "id": "9c339b68",
   "metadata": {},
   "outputs": [],
   "source": []
  }
 ],
 "metadata": {
  "kernelspec": {
   "display_name": "PYSPARK_KERNEL",
   "language": "python",
   "name": "pyspark_kernel"
  }
 },
 "nbformat": 4,
 "nbformat_minor": 5
}
