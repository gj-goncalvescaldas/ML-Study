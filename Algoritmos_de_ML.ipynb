{
 "cells": [
  {
   "cell_type": "markdown",
   "id": "98256f42",
   "metadata": {},
   "source": [
    "# Algoritmos de Aprendizaje Automático\n",
    "\n",
    "En este notebook, exploraremos una serie de algoritmos de aprendizaje automático (Machine Learning) tanto supervisados como no supervisados, cubriendo una amplia variedad de técnicas y métodos. Los temas tratados incluyen:\n",
    "\n",
    "## Preprocesamiento de Datos\n",
    "- Limpieza y transformación de datos\n",
    "- Normalización y escalado\n",
    "\n",
    "## Algoritmos Supervisados\n",
    "- **Regresión Lineal**\n",
    "  - Regresión Lineal Simple\n",
    "  - Regresión Lineal Múltiple\n",
    "- **Regresión Logística**\n",
    "- **Árboles de Decisión (CART)**\n",
    "- **Random Forest**\n",
    "- **Naive Bayes**\n",
    "- **Máquinas de Soporte Vectorial (SVM)**\n",
    "- **K-Nearest Neighbors (KNN)**\n",
    "\n",
    "## Algoritmos No Supervisados\n",
    "- **K-Means**\n",
    "- **Análisis de Componentes Principales (PCA)**\n",
    "- **Algoritmo Apriori**\n",
    "\n",
    "## Otras Técnicas de Machine Learning\n",
    "- **Procesamiento de Lenguaje Natural (NLP)**\n",
    "- **Redes Neuronales Artificiales**\n",
    "- **Redes Neuronales Convolucionales (CNN)**\n",
    "\n",
    "A lo largo de este notebook, se explicarán cada uno de estos algoritmos con ejemplos prácticos y casos de uso."
   ]
  },
  {
   "cell_type": "code",
   "execution_count": 3,
   "id": "bd61486a",
   "metadata": {},
   "outputs": [],
   "source": [
    "#Importar Librarias\n",
    "\n",
    "import numpy as np\n",
    "import matplotlib.pyplot as plt\n",
    "import pandas as pd"
   ]
  },
  {
   "cell_type": "code",
   "execution_count": 47,
   "id": "902adace",
   "metadata": {},
   "outputs": [],
   "source": [
    "dataset = pd.read_csv(\"MLDatasets/Data.csv\")"
   ]
  },
  {
   "cell_type": "code",
   "execution_count": 48,
   "id": "eb24a1d9",
   "metadata": {},
   "outputs": [
    {
     "data": {
      "text/html": [
       "<div>\n",
       "<style scoped>\n",
       "    .dataframe tbody tr th:only-of-type {\n",
       "        vertical-align: middle;\n",
       "    }\n",
       "\n",
       "    .dataframe tbody tr th {\n",
       "        vertical-align: top;\n",
       "    }\n",
       "\n",
       "    .dataframe thead th {\n",
       "        text-align: right;\n",
       "    }\n",
       "</style>\n",
       "<table border=\"1\" class=\"dataframe\">\n",
       "  <thead>\n",
       "    <tr style=\"text-align: right;\">\n",
       "      <th></th>\n",
       "      <th>Country</th>\n",
       "      <th>Age</th>\n",
       "      <th>Salary</th>\n",
       "      <th>Purchased</th>\n",
       "    </tr>\n",
       "  </thead>\n",
       "  <tbody>\n",
       "    <tr>\n",
       "      <th>0</th>\n",
       "      <td>France</td>\n",
       "      <td>44.0</td>\n",
       "      <td>72000.0</td>\n",
       "      <td>No</td>\n",
       "    </tr>\n",
       "    <tr>\n",
       "      <th>1</th>\n",
       "      <td>Spain</td>\n",
       "      <td>27.0</td>\n",
       "      <td>48000.0</td>\n",
       "      <td>Yes</td>\n",
       "    </tr>\n",
       "    <tr>\n",
       "      <th>2</th>\n",
       "      <td>Germany</td>\n",
       "      <td>30.0</td>\n",
       "      <td>54000.0</td>\n",
       "      <td>No</td>\n",
       "    </tr>\n",
       "    <tr>\n",
       "      <th>3</th>\n",
       "      <td>Spain</td>\n",
       "      <td>38.0</td>\n",
       "      <td>61000.0</td>\n",
       "      <td>No</td>\n",
       "    </tr>\n",
       "    <tr>\n",
       "      <th>4</th>\n",
       "      <td>Germany</td>\n",
       "      <td>40.0</td>\n",
       "      <td>NaN</td>\n",
       "      <td>Yes</td>\n",
       "    </tr>\n",
       "    <tr>\n",
       "      <th>5</th>\n",
       "      <td>France</td>\n",
       "      <td>35.0</td>\n",
       "      <td>58000.0</td>\n",
       "      <td>Yes</td>\n",
       "    </tr>\n",
       "    <tr>\n",
       "      <th>6</th>\n",
       "      <td>Spain</td>\n",
       "      <td>NaN</td>\n",
       "      <td>52000.0</td>\n",
       "      <td>No</td>\n",
       "    </tr>\n",
       "    <tr>\n",
       "      <th>7</th>\n",
       "      <td>France</td>\n",
       "      <td>48.0</td>\n",
       "      <td>79000.0</td>\n",
       "      <td>Yes</td>\n",
       "    </tr>\n",
       "    <tr>\n",
       "      <th>8</th>\n",
       "      <td>Germany</td>\n",
       "      <td>50.0</td>\n",
       "      <td>83000.0</td>\n",
       "      <td>No</td>\n",
       "    </tr>\n",
       "    <tr>\n",
       "      <th>9</th>\n",
       "      <td>France</td>\n",
       "      <td>37.0</td>\n",
       "      <td>67000.0</td>\n",
       "      <td>Yes</td>\n",
       "    </tr>\n",
       "  </tbody>\n",
       "</table>\n",
       "</div>"
      ],
      "text/plain": [
       "   Country   Age   Salary Purchased\n",
       "0   France  44.0  72000.0        No\n",
       "1    Spain  27.0  48000.0       Yes\n",
       "2  Germany  30.0  54000.0        No\n",
       "3    Spain  38.0  61000.0        No\n",
       "4  Germany  40.0      NaN       Yes\n",
       "5   France  35.0  58000.0       Yes\n",
       "6    Spain   NaN  52000.0        No\n",
       "7   France  48.0  79000.0       Yes\n",
       "8  Germany  50.0  83000.0        No\n",
       "9   France  37.0  67000.0       Yes"
      ]
     },
     "execution_count": 48,
     "metadata": {},
     "output_type": "execute_result"
    }
   ],
   "source": [
    "dataset"
   ]
  },
  {
   "cell_type": "markdown",
   "id": "914164f5",
   "metadata": {},
   "source": [
    "# Análisis de Variables y Manejo de Datos Faltantes\n",
    "\n",
    "Este dataset contiene información sobre los clientes de una empresa, con detalles como país, edad, salario y si realizaron una compra. En este contexto, es importante entender la distinción entre variables independientes y dependientes, y cómo abordaremos los datos faltantes.\n",
    "\n",
    "## Variables Independientes y Dependientes\n",
    "\n",
    "- **Variables Independientes**: En este caso, las variables **Country** (País), **Age** (Edad) y **Salary** (Salario) son independientes. Estas variables representan características de cada cliente que usaremos para explicar o predecir el comportamiento de compra. Se consideran independientes porque no dependen de ninguna otra variable en nuestro análisis.\n",
    "\n",
    "- **Variable Dependiente**: La variable **Purchased** (Compró) es dependiente, ya que su valor depende o está influenciado por los valores de las variables independientes. Aquí, el objetivo es analizar si el país, la edad o el salario de una persona afectan su decisión de compra.\n",
    "\n",
    "## Manejo de Datos Faltantes\n",
    "\n",
    "En este dataset, hay datos faltantes en las columnas **Age** y **Salary**. Para abordar este problema, vamos a reemplazar los valores faltantes con la media de cada columna correspondiente. Esto ayuda a mantener la consistencia de los datos sin introducir sesgos significativos.\n",
    "\n"
   ]
  },
  {
   "cell_type": "code",
   "execution_count": 49,
   "id": "b36eb091",
   "metadata": {},
   "outputs": [],
   "source": [
    "dataset['Age'].fillna(dataset['Age'].mean(), inplace=True)\n",
    "dataset['Salary'].fillna(dataset['Salary'].mean(), inplace=True)"
   ]
  },
  {
   "cell_type": "code",
   "execution_count": 50,
   "id": "d0aba8e3",
   "metadata": {},
   "outputs": [
    {
     "data": {
      "text/html": [
       "<div>\n",
       "<style scoped>\n",
       "    .dataframe tbody tr th:only-of-type {\n",
       "        vertical-align: middle;\n",
       "    }\n",
       "\n",
       "    .dataframe tbody tr th {\n",
       "        vertical-align: top;\n",
       "    }\n",
       "\n",
       "    .dataframe thead th {\n",
       "        text-align: right;\n",
       "    }\n",
       "</style>\n",
       "<table border=\"1\" class=\"dataframe\">\n",
       "  <thead>\n",
       "    <tr style=\"text-align: right;\">\n",
       "      <th></th>\n",
       "      <th>Country</th>\n",
       "      <th>Age</th>\n",
       "      <th>Salary</th>\n",
       "      <th>Purchased</th>\n",
       "    </tr>\n",
       "  </thead>\n",
       "  <tbody>\n",
       "    <tr>\n",
       "      <th>0</th>\n",
       "      <td>France</td>\n",
       "      <td>44.000000</td>\n",
       "      <td>72000.000000</td>\n",
       "      <td>No</td>\n",
       "    </tr>\n",
       "    <tr>\n",
       "      <th>1</th>\n",
       "      <td>Spain</td>\n",
       "      <td>27.000000</td>\n",
       "      <td>48000.000000</td>\n",
       "      <td>Yes</td>\n",
       "    </tr>\n",
       "    <tr>\n",
       "      <th>2</th>\n",
       "      <td>Germany</td>\n",
       "      <td>30.000000</td>\n",
       "      <td>54000.000000</td>\n",
       "      <td>No</td>\n",
       "    </tr>\n",
       "    <tr>\n",
       "      <th>3</th>\n",
       "      <td>Spain</td>\n",
       "      <td>38.000000</td>\n",
       "      <td>61000.000000</td>\n",
       "      <td>No</td>\n",
       "    </tr>\n",
       "    <tr>\n",
       "      <th>4</th>\n",
       "      <td>Germany</td>\n",
       "      <td>40.000000</td>\n",
       "      <td>63777.777778</td>\n",
       "      <td>Yes</td>\n",
       "    </tr>\n",
       "    <tr>\n",
       "      <th>5</th>\n",
       "      <td>France</td>\n",
       "      <td>35.000000</td>\n",
       "      <td>58000.000000</td>\n",
       "      <td>Yes</td>\n",
       "    </tr>\n",
       "    <tr>\n",
       "      <th>6</th>\n",
       "      <td>Spain</td>\n",
       "      <td>38.777778</td>\n",
       "      <td>52000.000000</td>\n",
       "      <td>No</td>\n",
       "    </tr>\n",
       "    <tr>\n",
       "      <th>7</th>\n",
       "      <td>France</td>\n",
       "      <td>48.000000</td>\n",
       "      <td>79000.000000</td>\n",
       "      <td>Yes</td>\n",
       "    </tr>\n",
       "    <tr>\n",
       "      <th>8</th>\n",
       "      <td>Germany</td>\n",
       "      <td>50.000000</td>\n",
       "      <td>83000.000000</td>\n",
       "      <td>No</td>\n",
       "    </tr>\n",
       "    <tr>\n",
       "      <th>9</th>\n",
       "      <td>France</td>\n",
       "      <td>37.000000</td>\n",
       "      <td>67000.000000</td>\n",
       "      <td>Yes</td>\n",
       "    </tr>\n",
       "  </tbody>\n",
       "</table>\n",
       "</div>"
      ],
      "text/plain": [
       "   Country        Age        Salary Purchased\n",
       "0   France  44.000000  72000.000000        No\n",
       "1    Spain  27.000000  48000.000000       Yes\n",
       "2  Germany  30.000000  54000.000000        No\n",
       "3    Spain  38.000000  61000.000000        No\n",
       "4  Germany  40.000000  63777.777778       Yes\n",
       "5   France  35.000000  58000.000000       Yes\n",
       "6    Spain  38.777778  52000.000000        No\n",
       "7   France  48.000000  79000.000000       Yes\n",
       "8  Germany  50.000000  83000.000000        No\n",
       "9   France  37.000000  67000.000000       Yes"
      ]
     },
     "execution_count": 50,
     "metadata": {},
     "output_type": "execute_result"
    }
   ],
   "source": [
    "dataset"
   ]
  },
  {
   "cell_type": "markdown",
   "id": "1f6144e7",
   "metadata": {},
   "source": [
    "Ahora puedes ver que los datos faltantes han sido reemplazados por la media de la columna.\n",
    "\n",
    "## Codificación de Datos Categóricos para la Columna de País\n",
    "\n",
    "Inicialmente, la columna **Country** contiene los nombres de los países en formato de texto. En este dataset, tenemos dos variables categóricas: **Country** y **Purchased**.\n"
   ]
  },
  {
   "cell_type": "code",
   "execution_count": 51,
   "id": "739e58dc",
   "metadata": {},
   "outputs": [
    {
     "data": {
      "text/plain": [
       "array([0, 2, 1, 2, 1, 0, 2, 0, 1, 0])"
      ]
     },
     "execution_count": 51,
     "metadata": {},
     "output_type": "execute_result"
    }
   ],
   "source": [
    "from sklearn.preprocessing import LabelEncoder\n",
    "labelencoderDataset = LabelEncoder()\n",
    "labelencoderDataset.fit_transform(dataset['Country'])"
   ]
  },
  {
   "cell_type": "markdown",
   "id": "33af773e",
   "metadata": {},
   "source": [
    "Los países ya no están escritos como texto. Ahora tenemos los valores codificados de cada país.\n"
   ]
  },
  {
   "cell_type": "code",
   "execution_count": 52,
   "id": "dec32abc",
   "metadata": {},
   "outputs": [],
   "source": [
    "dataset['Country'] = labelencoderDataset.fit_transform(dataset['Country']);\n"
   ]
  },
  {
   "cell_type": "code",
   "execution_count": 53,
   "id": "82f67009",
   "metadata": {},
   "outputs": [
    {
     "data": {
      "text/html": [
       "<div>\n",
       "<style scoped>\n",
       "    .dataframe tbody tr th:only-of-type {\n",
       "        vertical-align: middle;\n",
       "    }\n",
       "\n",
       "    .dataframe tbody tr th {\n",
       "        vertical-align: top;\n",
       "    }\n",
       "\n",
       "    .dataframe thead th {\n",
       "        text-align: right;\n",
       "    }\n",
       "</style>\n",
       "<table border=\"1\" class=\"dataframe\">\n",
       "  <thead>\n",
       "    <tr style=\"text-align: right;\">\n",
       "      <th></th>\n",
       "      <th>Country</th>\n",
       "      <th>Age</th>\n",
       "      <th>Salary</th>\n",
       "      <th>Purchased</th>\n",
       "    </tr>\n",
       "  </thead>\n",
       "  <tbody>\n",
       "    <tr>\n",
       "      <th>0</th>\n",
       "      <td>0</td>\n",
       "      <td>44.000000</td>\n",
       "      <td>72000.000000</td>\n",
       "      <td>No</td>\n",
       "    </tr>\n",
       "    <tr>\n",
       "      <th>1</th>\n",
       "      <td>2</td>\n",
       "      <td>27.000000</td>\n",
       "      <td>48000.000000</td>\n",
       "      <td>Yes</td>\n",
       "    </tr>\n",
       "    <tr>\n",
       "      <th>2</th>\n",
       "      <td>1</td>\n",
       "      <td>30.000000</td>\n",
       "      <td>54000.000000</td>\n",
       "      <td>No</td>\n",
       "    </tr>\n",
       "    <tr>\n",
       "      <th>3</th>\n",
       "      <td>2</td>\n",
       "      <td>38.000000</td>\n",
       "      <td>61000.000000</td>\n",
       "      <td>No</td>\n",
       "    </tr>\n",
       "    <tr>\n",
       "      <th>4</th>\n",
       "      <td>1</td>\n",
       "      <td>40.000000</td>\n",
       "      <td>63777.777778</td>\n",
       "      <td>Yes</td>\n",
       "    </tr>\n",
       "    <tr>\n",
       "      <th>5</th>\n",
       "      <td>0</td>\n",
       "      <td>35.000000</td>\n",
       "      <td>58000.000000</td>\n",
       "      <td>Yes</td>\n",
       "    </tr>\n",
       "    <tr>\n",
       "      <th>6</th>\n",
       "      <td>2</td>\n",
       "      <td>38.777778</td>\n",
       "      <td>52000.000000</td>\n",
       "      <td>No</td>\n",
       "    </tr>\n",
       "    <tr>\n",
       "      <th>7</th>\n",
       "      <td>0</td>\n",
       "      <td>48.000000</td>\n",
       "      <td>79000.000000</td>\n",
       "      <td>Yes</td>\n",
       "    </tr>\n",
       "    <tr>\n",
       "      <th>8</th>\n",
       "      <td>1</td>\n",
       "      <td>50.000000</td>\n",
       "      <td>83000.000000</td>\n",
       "      <td>No</td>\n",
       "    </tr>\n",
       "    <tr>\n",
       "      <th>9</th>\n",
       "      <td>0</td>\n",
       "      <td>37.000000</td>\n",
       "      <td>67000.000000</td>\n",
       "      <td>Yes</td>\n",
       "    </tr>\n",
       "  </tbody>\n",
       "</table>\n",
       "</div>"
      ],
      "text/plain": [
       "   Country        Age        Salary Purchased\n",
       "0        0  44.000000  72000.000000        No\n",
       "1        2  27.000000  48000.000000       Yes\n",
       "2        1  30.000000  54000.000000        No\n",
       "3        2  38.000000  61000.000000        No\n",
       "4        1  40.000000  63777.777778       Yes\n",
       "5        0  35.000000  58000.000000       Yes\n",
       "6        2  38.777778  52000.000000        No\n",
       "7        0  48.000000  79000.000000       Yes\n",
       "8        1  50.000000  83000.000000        No\n",
       "9        0  37.000000  67000.000000       Yes"
      ]
     },
     "execution_count": 53,
     "metadata": {},
     "output_type": "execute_result"
    }
   ],
   "source": [
    "dataset"
   ]
  },
  {
   "cell_type": "markdown",
   "id": "3e615f7e",
   "metadata": {},
   "source": [
    "La conversión de texto a números se realiza porque el aprendizaje automático se basa en ecuaciones matemáticas y podemos utilizar estos números en dichas ecuaciones. Sin embargo, esto trae una desventaja: los modelos de aprendizaje automático podrían interpretar que **Spain > Germany > France** debido a los valores numéricos asignados, pero no existe un orden relacional entre estos países.\n",
    "\n",
    "Para evitar que las ecuaciones del modelo piensen que existe un orden relacional entre los países, debemos usar **variables dummy**.\n"
   ]
  },
  {
   "cell_type": "code",
   "execution_count": 54,
   "id": "a567ea92",
   "metadata": {},
   "outputs": [],
   "source": [
    "\n",
    "from sklearn.preprocessing import OneHotEncoder\n",
    "from sklearn.compose import ColumnTransformer\n",
    "\n",
    "# Aplicar OneHotEncoder solo a la columna 'Country'\n",
    "columnTransformer = ColumnTransformer(\n",
    "    [('encoder', OneHotEncoder(), ['Country'])],\n",
    "    remainder='passthrough'  # Mantener el resto de las columnas sin cambios\n",
    ")\n",
    "\n",
    "# Transformar el dataset\n",
    "dataset = columnTransformer.fit_transform(dataset)"
   ]
  },
  {
   "cell_type": "code",
   "execution_count": 55,
   "id": "97e93d03",
   "metadata": {},
   "outputs": [
    {
     "data": {
      "text/plain": [
       "array([[1.0, 0.0, 0.0, 44.0, 72000.0, 'No'],\n",
       "       [0.0, 0.0, 1.0, 27.0, 48000.0, 'Yes'],\n",
       "       [0.0, 1.0, 0.0, 30.0, 54000.0, 'No'],\n",
       "       [0.0, 0.0, 1.0, 38.0, 61000.0, 'No'],\n",
       "       [0.0, 1.0, 0.0, 40.0, 63777.77777777778, 'Yes'],\n",
       "       [1.0, 0.0, 0.0, 35.0, 58000.0, 'Yes'],\n",
       "       [0.0, 0.0, 1.0, 38.77777777777778, 52000.0, 'No'],\n",
       "       [1.0, 0.0, 0.0, 48.0, 79000.0, 'Yes'],\n",
       "       [0.0, 1.0, 0.0, 50.0, 83000.0, 'No'],\n",
       "       [1.0, 0.0, 0.0, 37.0, 67000.0, 'Yes']], dtype=object)"
      ]
     },
     "execution_count": 55,
     "metadata": {},
     "output_type": "execute_result"
    }
   ],
   "source": [
    "dataset"
   ]
  },
  {
   "cell_type": "markdown",
   "id": "9476fd2c",
   "metadata": {},
   "source": [
    "Después de aplicar **OneHotEncoder**, la columna **Country** se ha reemplazado por tres nuevas columnas: una para **France**, otra para **Germany** y otra para **Spain**. Cada fila tendrá un `1` en la columna que corresponde al país del cliente y un `0` en las otras columnas. Esto evita que el modelo de aprendizaje automático piense que hay un orden entre los países, ya que ahora estamos representando las categorías de manera binaria (sin orden implícito)."
   ]
  },
  {
   "cell_type": "markdown",
   "id": "aa2031d6",
   "metadata": {},
   "source": [
    "## Codificación de Datos Categóricos para la Columna **Purchased**\n",
    "\n",
    "La columna **Purchased** es una variable categórica que indica si el cliente compró el producto o no, con valores como **'Yes'** o **'No'**. Al igual que con la columna **Country**, debemos convertir estos valores de texto en formato numérico para que los modelos de aprendizaje automático puedan procesarlos.\n",
    "\n",
    "En este caso, vamos a codificar **'Yes'** como `1` y **'No'** como `0`.\n"
   ]
  },
  {
   "cell_type": "code",
   "execution_count": 57,
   "id": "2c780319",
   "metadata": {},
   "outputs": [],
   "source": [
    "# Aplicar LabelEncoder a la última columna ('Purchased')\n",
    "dataset[:, -1] = labelencoderDataset.fit_transform(dataset[:, -1])"
   ]
  },
  {
   "cell_type": "code",
   "execution_count": 58,
   "id": "6311616d",
   "metadata": {},
   "outputs": [
    {
     "data": {
      "text/plain": [
       "array([[1.0, 0.0, 0.0, 44.0, 72000.0, 0],\n",
       "       [0.0, 0.0, 1.0, 27.0, 48000.0, 1],\n",
       "       [0.0, 1.0, 0.0, 30.0, 54000.0, 0],\n",
       "       [0.0, 0.0, 1.0, 38.0, 61000.0, 0],\n",
       "       [0.0, 1.0, 0.0, 40.0, 63777.77777777778, 1],\n",
       "       [1.0, 0.0, 0.0, 35.0, 58000.0, 1],\n",
       "       [0.0, 0.0, 1.0, 38.77777777777778, 52000.0, 0],\n",
       "       [1.0, 0.0, 0.0, 48.0, 79000.0, 1],\n",
       "       [0.0, 1.0, 0.0, 50.0, 83000.0, 0],\n",
       "       [1.0, 0.0, 0.0, 37.0, 67000.0, 1]], dtype=object)"
      ]
     },
     "execution_count": 58,
     "metadata": {},
     "output_type": "execute_result"
    }
   ],
   "source": [
    "dataset"
   ]
  },
  {
   "cell_type": "markdown",
   "id": "abf3b02a",
   "metadata": {},
   "source": [
    "### Dividir el Conjunto de Datos en el Conjunto de Entrenamiento y el Conjunto de Prueba"
   ]
  },
  {
   "cell_type": "code",
   "execution_count": 61,
   "id": "45296b41",
   "metadata": {},
   "outputs": [],
   "source": [
    "X = dataset[:, :-1]  \n",
    "y = dataset[:, -1] "
   ]
  },
  {
   "cell_type": "code",
   "execution_count": 63,
   "id": "a62a6081",
   "metadata": {},
   "outputs": [
    {
     "data": {
      "text/plain": [
       "array([[1.0, 0.0, 0.0, 44.0, 72000.0],\n",
       "       [0.0, 0.0, 1.0, 27.0, 48000.0],\n",
       "       [0.0, 1.0, 0.0, 30.0, 54000.0],\n",
       "       [0.0, 0.0, 1.0, 38.0, 61000.0],\n",
       "       [0.0, 1.0, 0.0, 40.0, 63777.77777777778],\n",
       "       [1.0, 0.0, 0.0, 35.0, 58000.0],\n",
       "       [0.0, 0.0, 1.0, 38.77777777777778, 52000.0],\n",
       "       [1.0, 0.0, 0.0, 48.0, 79000.0],\n",
       "       [0.0, 1.0, 0.0, 50.0, 83000.0],\n",
       "       [1.0, 0.0, 0.0, 37.0, 67000.0]], dtype=object)"
      ]
     },
     "execution_count": 63,
     "metadata": {},
     "output_type": "execute_result"
    }
   ],
   "source": [
    "X"
   ]
  },
  {
   "cell_type": "code",
   "execution_count": 65,
   "id": "6f07482e",
   "metadata": {},
   "outputs": [
    {
     "data": {
      "text/plain": [
       "array([0, 1, 0, 0, 1, 1, 0, 1, 0, 1], dtype=object)"
      ]
     },
     "execution_count": 65,
     "metadata": {},
     "output_type": "execute_result"
    }
   ],
   "source": [
    "y"
   ]
  },
  {
   "cell_type": "markdown",
   "id": "06e63ff1",
   "metadata": {},
   "source": [
    "### Dividir el Conjunto de Datos en Conjunto de Entrenamiento y Conjunto de Prueba"
   ]
  },
  {
   "cell_type": "code",
   "execution_count": 67,
   "id": "abea2912",
   "metadata": {},
   "outputs": [],
   "source": [
    "from sklearn.model_selection import train_test_split\n",
    "\n",
    "X_train, X_test, y_train, y_test = train_test_split(X,y,test_size = 0.2, random_state = 0)"
   ]
  },
  {
   "cell_type": "code",
   "execution_count": 68,
   "id": "e7410e75",
   "metadata": {},
   "outputs": [
    {
     "data": {
      "text/plain": [
       "(array([[0.0, 1.0, 0.0, 40.0, 63777.77777777778],\n",
       "        [1.0, 0.0, 0.0, 37.0, 67000.0],\n",
       "        [0.0, 0.0, 1.0, 27.0, 48000.0],\n",
       "        [0.0, 0.0, 1.0, 38.77777777777778, 52000.0],\n",
       "        [1.0, 0.0, 0.0, 48.0, 79000.0],\n",
       "        [0.0, 0.0, 1.0, 38.0, 61000.0],\n",
       "        [1.0, 0.0, 0.0, 44.0, 72000.0],\n",
       "        [1.0, 0.0, 0.0, 35.0, 58000.0]], dtype=object),\n",
       " array([[0.0, 1.0, 0.0, 30.0, 54000.0],\n",
       "        [0.0, 1.0, 0.0, 50.0, 83000.0]], dtype=object))"
      ]
     },
     "execution_count": 68,
     "metadata": {},
     "output_type": "execute_result"
    }
   ],
   "source": [
    "X_train, X_test"
   ]
  },
  {
   "cell_type": "code",
   "execution_count": 69,
   "id": "ccfcce65",
   "metadata": {},
   "outputs": [
    {
     "data": {
      "text/plain": [
       "(array([1, 1, 1, 0, 1, 0, 0, 1], dtype=object), array([0, 0], dtype=object))"
      ]
     },
     "execution_count": 69,
     "metadata": {},
     "output_type": "execute_result"
    }
   ],
   "source": [
    "y_train, y_test"
   ]
  },
  {
   "cell_type": "markdown",
   "id": "03e1a19c",
   "metadata": {},
   "source": [
    "**Nota:** Esto se utilizará para establecer una relación entre las variables independientes y la variable dependiente. Además, servirá para predecir la precisión del modelo.\n"
   ]
  },
  {
   "cell_type": "markdown",
   "id": "76679895",
   "metadata": {},
   "source": [
    "### Escalado de Características\n",
    "\n",
    "En este conjunto de datos tenemos las columnas de Edad y Salario. Muchos modelos de aprendizaje automático se basan en la distancia euclidiana, por lo que al calcular la diferencia al cuadrado, el Salario dominará sobre la Edad debido a sus valores más grandes. Por eso, necesitamos aplicar un escalado de características.\n",
    "\n",
    "La **distancia euclidiana** mide la distancia directa entre dos puntos en el espacio y es ampliamente utilizada en modelos de aprendizaje automático que dependen de la similitud entre observaciones, como los algoritmos de clasificación y agrupamiento. Esta métrica se basa en calcular la raíz cuadrada de la suma de las diferencias al cuadrado de cada característica, lo que permite determinar la \"proximidad\" entre puntos de datos en un espacio multidimensional.\n",
    "\n"
   ]
  },
  {
   "cell_type": "code",
   "execution_count": 71,
   "id": "02c9d33e",
   "metadata": {},
   "outputs": [
    {
     "data": {
      "text/plain": [
       "(array([[-1.        ,  2.64575131, -0.77459667,  0.26306757,  0.12381479],\n",
       "        [ 1.        , -0.37796447, -0.77459667, -0.25350148,  0.46175632],\n",
       "        [-1.        , -0.37796447,  1.29099445, -1.97539832, -1.53093341],\n",
       "        [-1.        , -0.37796447,  1.29099445,  0.05261351, -1.11141978],\n",
       "        [ 1.        , -0.37796447, -0.77459667,  1.64058505,  1.7202972 ],\n",
       "        [-1.        , -0.37796447,  1.29099445, -0.0813118 , -0.16751412],\n",
       "        [ 1.        , -0.37796447, -0.77459667,  0.95182631,  0.98614835],\n",
       "        [ 1.        , -0.37796447, -0.77459667, -0.59788085, -0.48214934]]),\n",
       " array([[-1.        ,  2.64575131, -0.77459667, -1.45882927, -0.90166297],\n",
       "        [-1.        ,  2.64575131, -0.77459667,  1.98496442,  2.13981082]]))"
      ]
     },
     "execution_count": 71,
     "metadata": {},
     "output_type": "execute_result"
    }
   ],
   "source": [
    "from sklearn.preprocessing import StandardScaler\n",
    "\n",
    "sc_X = StandardScaler()\n",
    "X_train = sc_X.fit_transform(X_train)\n",
    "X_test = sc_X.transform(X_test)\n",
    "\n",
    "X_train, X_test"
   ]
  },
  {
   "cell_type": "markdown",
   "id": "6b6cf135",
   "metadata": {},
   "source": [
    "### Aprendizaje Supervisado\n",
    "\n",
    "El aprendizaje supervisado se refiere a cuando el modelo se entrena con un conjunto de datos etiquetado. Un conjunto de datos etiquetado es aquel que contiene tanto los parámetros de entrada como los de salida. En este tipo de aprendizaje, tanto los conjuntos de entrenamiento como de validación están etiquetados.\n",
    "\n",
    "#### 1. Regresión Lineal\n",
    "En estadística, la regresión lineal es un enfoque lineal para modelar la relación entre una respuesta escalar (o variable dependiente) y una o más variables explicativas (o variables independientes). El caso de una sola variable explicativa se conoce como regresión lineal simple.\n",
    "\n",
    "**a) Regresión Lineal Simple**\n",
    "La regresión lineal simple es una prueba paramétrica, lo que significa que asume ciertas condiciones sobre los datos. Estas suposiciones incluyen:\n",
    "- Homogeneidad de varianza (homocedasticidad): el tamaño del error en la predicción no cambia significativamente a lo largo de los valores de la variable independiente.\n"
   ]
  },
  {
   "cell_type": "code",
   "execution_count": 72,
   "id": "8f7e84a1",
   "metadata": {},
   "outputs": [
    {
     "data": {
      "text/html": [
       "<div>\n",
       "<style scoped>\n",
       "    .dataframe tbody tr th:only-of-type {\n",
       "        vertical-align: middle;\n",
       "    }\n",
       "\n",
       "    .dataframe tbody tr th {\n",
       "        vertical-align: top;\n",
       "    }\n",
       "\n",
       "    .dataframe thead th {\n",
       "        text-align: right;\n",
       "    }\n",
       "</style>\n",
       "<table border=\"1\" class=\"dataframe\">\n",
       "  <thead>\n",
       "    <tr style=\"text-align: right;\">\n",
       "      <th></th>\n",
       "      <th>YearsExperience</th>\n",
       "      <th>Salary</th>\n",
       "    </tr>\n",
       "  </thead>\n",
       "  <tbody>\n",
       "    <tr>\n",
       "      <th>0</th>\n",
       "      <td>1.1</td>\n",
       "      <td>39343.0</td>\n",
       "    </tr>\n",
       "    <tr>\n",
       "      <th>1</th>\n",
       "      <td>1.3</td>\n",
       "      <td>46205.0</td>\n",
       "    </tr>\n",
       "    <tr>\n",
       "      <th>2</th>\n",
       "      <td>1.5</td>\n",
       "      <td>37731.0</td>\n",
       "    </tr>\n",
       "    <tr>\n",
       "      <th>3</th>\n",
       "      <td>2.0</td>\n",
       "      <td>43525.0</td>\n",
       "    </tr>\n",
       "    <tr>\n",
       "      <th>4</th>\n",
       "      <td>2.2</td>\n",
       "      <td>39891.0</td>\n",
       "    </tr>\n",
       "  </tbody>\n",
       "</table>\n",
       "</div>"
      ],
      "text/plain": [
       "   YearsExperience   Salary\n",
       "0              1.1  39343.0\n",
       "1              1.3  46205.0\n",
       "2              1.5  37731.0\n",
       "3              2.0  43525.0\n",
       "4              2.2  39891.0"
      ]
     },
     "execution_count": 72,
     "metadata": {},
     "output_type": "execute_result"
    }
   ],
   "source": [
    "dataset = pd.read_csv(\"MLDatasets/Salary_Data.csv\") \n",
    "dataset.head()"
   ]
  },
  {
   "cell_type": "code",
   "execution_count": 81,
   "id": "164f9191",
   "metadata": {},
   "outputs": [],
   "source": [
    "X = dataset.iloc[:,:-1].values\n",
    "y = dataset.iloc[:,1].values"
   ]
  },
  {
   "cell_type": "code",
   "execution_count": 82,
   "id": "3cba1935",
   "metadata": {},
   "outputs": [
    {
     "data": {
      "text/plain": [
       "array([[ 1.1],\n",
       "       [ 1.3],\n",
       "       [ 1.5],\n",
       "       [ 2. ],\n",
       "       [ 2.2],\n",
       "       [ 2.9],\n",
       "       [ 3. ],\n",
       "       [ 3.2],\n",
       "       [ 3.2],\n",
       "       [ 3.7],\n",
       "       [ 3.9],\n",
       "       [ 4. ],\n",
       "       [ 4. ],\n",
       "       [ 4.1],\n",
       "       [ 4.5],\n",
       "       [ 4.9],\n",
       "       [ 5.1],\n",
       "       [ 5.3],\n",
       "       [ 5.9],\n",
       "       [ 6. ],\n",
       "       [ 6.8],\n",
       "       [ 7.1],\n",
       "       [ 7.9],\n",
       "       [ 8.2],\n",
       "       [ 8.7],\n",
       "       [ 9. ],\n",
       "       [ 9.5],\n",
       "       [ 9.6],\n",
       "       [10.3],\n",
       "       [10.5]])"
      ]
     },
     "execution_count": 82,
     "metadata": {},
     "output_type": "execute_result"
    }
   ],
   "source": [
    "X"
   ]
  },
  {
   "cell_type": "code",
   "execution_count": 83,
   "id": "f6430af2",
   "metadata": {},
   "outputs": [
    {
     "data": {
      "text/plain": [
       "array([ 39343.,  46205.,  37731.,  43525.,  39891.,  56642.,  60150.,\n",
       "        54445.,  64445.,  57189.,  63218.,  55794.,  56957.,  57081.,\n",
       "        61111.,  67938.,  66029.,  83088.,  81363.,  93940.,  91738.,\n",
       "        98273., 101302., 113812., 109431., 105582., 116969., 112635.,\n",
       "       122391., 121872.])"
      ]
     },
     "execution_count": 83,
     "metadata": {},
     "output_type": "execute_result"
    }
   ],
   "source": [
    "y"
   ]
  },
  {
   "cell_type": "code",
   "execution_count": 84,
   "id": "c4f7bf4f",
   "metadata": {},
   "outputs": [],
   "source": [
    "X_train, X_test, y_train, y_test = train_test_split(X,y, test_size = 1/3, random_state= 0)"
   ]
  },
  {
   "cell_type": "code",
   "execution_count": 85,
   "id": "85817032",
   "metadata": {},
   "outputs": [
    {
     "data": {
      "text/html": [
       "<style>#sk-container-id-1 {color: black;}#sk-container-id-1 pre{padding: 0;}#sk-container-id-1 div.sk-toggleable {background-color: white;}#sk-container-id-1 label.sk-toggleable__label {cursor: pointer;display: block;width: 100%;margin-bottom: 0;padding: 0.3em;box-sizing: border-box;text-align: center;}#sk-container-id-1 label.sk-toggleable__label-arrow:before {content: \"▸\";float: left;margin-right: 0.25em;color: #696969;}#sk-container-id-1 label.sk-toggleable__label-arrow:hover:before {color: black;}#sk-container-id-1 div.sk-estimator:hover label.sk-toggleable__label-arrow:before {color: black;}#sk-container-id-1 div.sk-toggleable__content {max-height: 0;max-width: 0;overflow: hidden;text-align: left;background-color: #f0f8ff;}#sk-container-id-1 div.sk-toggleable__content pre {margin: 0.2em;color: black;border-radius: 0.25em;background-color: #f0f8ff;}#sk-container-id-1 input.sk-toggleable__control:checked~div.sk-toggleable__content {max-height: 200px;max-width: 100%;overflow: auto;}#sk-container-id-1 input.sk-toggleable__control:checked~label.sk-toggleable__label-arrow:before {content: \"▾\";}#sk-container-id-1 div.sk-estimator input.sk-toggleable__control:checked~label.sk-toggleable__label {background-color: #d4ebff;}#sk-container-id-1 div.sk-label input.sk-toggleable__control:checked~label.sk-toggleable__label {background-color: #d4ebff;}#sk-container-id-1 input.sk-hidden--visually {border: 0;clip: rect(1px 1px 1px 1px);clip: rect(1px, 1px, 1px, 1px);height: 1px;margin: -1px;overflow: hidden;padding: 0;position: absolute;width: 1px;}#sk-container-id-1 div.sk-estimator {font-family: monospace;background-color: #f0f8ff;border: 1px dotted black;border-radius: 0.25em;box-sizing: border-box;margin-bottom: 0.5em;}#sk-container-id-1 div.sk-estimator:hover {background-color: #d4ebff;}#sk-container-id-1 div.sk-parallel-item::after {content: \"\";width: 100%;border-bottom: 1px solid gray;flex-grow: 1;}#sk-container-id-1 div.sk-label:hover label.sk-toggleable__label {background-color: #d4ebff;}#sk-container-id-1 div.sk-serial::before {content: \"\";position: absolute;border-left: 1px solid gray;box-sizing: border-box;top: 0;bottom: 0;left: 50%;z-index: 0;}#sk-container-id-1 div.sk-serial {display: flex;flex-direction: column;align-items: center;background-color: white;padding-right: 0.2em;padding-left: 0.2em;position: relative;}#sk-container-id-1 div.sk-item {position: relative;z-index: 1;}#sk-container-id-1 div.sk-parallel {display: flex;align-items: stretch;justify-content: center;background-color: white;position: relative;}#sk-container-id-1 div.sk-item::before, #sk-container-id-1 div.sk-parallel-item::before {content: \"\";position: absolute;border-left: 1px solid gray;box-sizing: border-box;top: 0;bottom: 0;left: 50%;z-index: -1;}#sk-container-id-1 div.sk-parallel-item {display: flex;flex-direction: column;z-index: 1;position: relative;background-color: white;}#sk-container-id-1 div.sk-parallel-item:first-child::after {align-self: flex-end;width: 50%;}#sk-container-id-1 div.sk-parallel-item:last-child::after {align-self: flex-start;width: 50%;}#sk-container-id-1 div.sk-parallel-item:only-child::after {width: 0;}#sk-container-id-1 div.sk-dashed-wrapped {border: 1px dashed gray;margin: 0 0.4em 0.5em 0.4em;box-sizing: border-box;padding-bottom: 0.4em;background-color: white;}#sk-container-id-1 div.sk-label label {font-family: monospace;font-weight: bold;display: inline-block;line-height: 1.2em;}#sk-container-id-1 div.sk-label-container {text-align: center;}#sk-container-id-1 div.sk-container {/* jupyter's `normalize.less` sets `[hidden] { display: none; }` but bootstrap.min.css set `[hidden] { display: none !important; }` so we also need the `!important` here to be able to override the default hidden behavior on the sphinx rendered scikit-learn.org. See: https://github.com/scikit-learn/scikit-learn/issues/21755 */display: inline-block !important;position: relative;}#sk-container-id-1 div.sk-text-repr-fallback {display: none;}</style><div id=\"sk-container-id-1\" class=\"sk-top-container\"><div class=\"sk-text-repr-fallback\"><pre>LinearRegression()</pre><b>In a Jupyter environment, please rerun this cell to show the HTML representation or trust the notebook. <br />On GitHub, the HTML representation is unable to render, please try loading this page with nbviewer.org.</b></div><div class=\"sk-container\" hidden><div class=\"sk-item\"><div class=\"sk-estimator sk-toggleable\"><input class=\"sk-toggleable__control sk-hidden--visually\" id=\"sk-estimator-id-1\" type=\"checkbox\" checked><label for=\"sk-estimator-id-1\" class=\"sk-toggleable__label sk-toggleable__label-arrow\">LinearRegression</label><div class=\"sk-toggleable__content\"><pre>LinearRegression()</pre></div></div></div></div></div>"
      ],
      "text/plain": [
       "LinearRegression()"
      ]
     },
     "execution_count": 85,
     "metadata": {},
     "output_type": "execute_result"
    }
   ],
   "source": [
    "from sklearn.linear_model import LinearRegression\n",
    "\n",
    "regressor = LinearRegression()\n",
    "regressor.fit(X_train, y_train)"
   ]
  },
  {
   "cell_type": "markdown",
   "id": "84faf7bb",
   "metadata": {},
   "source": [
    "Este código entrena un modelo de Regresión Lineal Simple utilizando el conjunto de datos de entrenamiento (X_train, y_train)."
   ]
  },
  {
   "cell_type": "code",
   "execution_count": 86,
   "id": "95064fce",
   "metadata": {},
   "outputs": [
    {
     "data": {
      "text/plain": [
       "array([ 40835.10590871, 123079.39940819,  65134.55626083,  63265.36777221,\n",
       "       115602.64545369, 108125.8914992 , 116537.23969801,  64199.96201652,\n",
       "        76349.68719258, 100649.1375447 ])"
      ]
     },
     "execution_count": 86,
     "metadata": {},
     "output_type": "execute_result"
    }
   ],
   "source": [
    "y_pred = regressor.predict(X_test)\n",
    "y_pred"
   ]
  },
  {
   "cell_type": "code",
   "execution_count": 87,
   "id": "5e540bd7",
   "metadata": {},
   "outputs": [
    {
     "data": {
      "image/png": "[encoded data removed]",
      "text/plain": [
       "<Figure size 640x480 with 1 Axes>"
      ]
     },
     "metadata": {},
     "output_type": "display_data"
    }
   ],
   "source": [
    "#visualizing the traning set results\n",
    "plt.scatter(X_train, y_train, color = \"red\")\n",
    "plt.plot(X_train, regressor.predict(X_train), color = \"blue\")\n",
    "plt.title(\"Salary vs Experience (Training Set)\")\n",
    "plt.xlabel(\"Years of experience\")\n",
    "plt.ylabel(\"Salary\")\n",
    "plt.show()"
   ]
  },
  {
   "cell_type": "code",
   "execution_count": 88,
   "id": "7834b3ec",
   "metadata": {},
   "outputs": [
    {
     "data": {
      "image/png": "[encoded data removed]",
      "text/plain": [
       "<Figure size 640x480 with 1 Axes>"
      ]
     },
     "metadata": {},
     "output_type": "display_data"
    }
   ],
   "source": [
    "#visualizing the test set results\n",
    "plt.scatter(X_test, y_test, color = \"red\")\n",
    "plt.plot(X_train, regressor.predict(X_train), color = \"blue\")\n",
    "plt.title(\"Salary vs Experience (Training Set)\")\n",
    "plt.xlabel(\"Years of experience\")\n",
    "plt.ylabel(\"Salary\")\n",
    "plt.show()"
   ]
  },
  {
   "cell_type": "code",
   "execution_count": 89,
   "id": "4e1f3915",
   "metadata": {},
   "outputs": [
    {
     "name": "stdout",
     "output_type": "stream",
     "text": [
      "Accuracy of the model is 97.49154407708353 %\n"
     ]
    }
   ],
   "source": [
    "#checking Accuracy\n",
    "accuracy = regressor.score(X_test,y_test)\n",
    "print('Accuracy of the model is',accuracy*100,'%')"
   ]
  },
  {
   "cell_type": "markdown",
   "id": "bde8b306",
   "metadata": {},
   "source": [
    "### b) Regresión Lineal Múltiple\n",
    "La **Regresión Lineal Múltiple** (MLR, por sus siglas en inglés), también conocida simplemente como regresión múltiple, es una técnica estadística que utiliza varias variables explicativas para predecir el resultado de una variable de respuesta. El objetivo de la regresión lineal múltiple es modelar la relación lineal entre las variables explicativas (independientes) y las variables de respuesta (dependientes).\n"
   ]
  },
  {
   "cell_type": "code",
   "execution_count": 116,
   "id": "56bb782c",
   "metadata": {},
   "outputs": [],
   "source": [
    "dataset = pd.read_csv(\"MLDatasets/50_Startups.csv\")"
   ]
  },
  {
   "cell_type": "code",
   "execution_count": 117,
   "id": "3e82cc88",
   "metadata": {},
   "outputs": [
    {
     "data": {
      "text/html": [
       "<div>\n",
       "<style scoped>\n",
       "    .dataframe tbody tr th:only-of-type {\n",
       "        vertical-align: middle;\n",
       "    }\n",
       "\n",
       "    .dataframe tbody tr th {\n",
       "        vertical-align: top;\n",
       "    }\n",
       "\n",
       "    .dataframe thead th {\n",
       "        text-align: right;\n",
       "    }\n",
       "</style>\n",
       "<table border=\"1\" class=\"dataframe\">\n",
       "  <thead>\n",
       "    <tr style=\"text-align: right;\">\n",
       "      <th></th>\n",
       "      <th>R&amp;D Spend</th>\n",
       "      <th>Administration</th>\n",
       "      <th>Marketing Spend</th>\n",
       "      <th>State</th>\n",
       "      <th>Profit</th>\n",
       "    </tr>\n",
       "  </thead>\n",
       "  <tbody>\n",
       "    <tr>\n",
       "      <th>0</th>\n",
       "      <td>165349.20</td>\n",
       "      <td>136897.80</td>\n",
       "      <td>471784.10</td>\n",
       "      <td>New York</td>\n",
       "      <td>192261.83</td>\n",
       "    </tr>\n",
       "    <tr>\n",
       "      <th>1</th>\n",
       "      <td>162597.70</td>\n",
       "      <td>151377.59</td>\n",
       "      <td>443898.53</td>\n",
       "      <td>California</td>\n",
       "      <td>191792.06</td>\n",
       "    </tr>\n",
       "    <tr>\n",
       "      <th>2</th>\n",
       "      <td>153441.51</td>\n",
       "      <td>101145.55</td>\n",
       "      <td>407934.54</td>\n",
       "      <td>Florida</td>\n",
       "      <td>191050.39</td>\n",
       "    </tr>\n",
       "    <tr>\n",
       "      <th>3</th>\n",
       "      <td>144372.41</td>\n",
       "      <td>118671.85</td>\n",
       "      <td>383199.62</td>\n",
       "      <td>New York</td>\n",
       "      <td>182901.99</td>\n",
       "    </tr>\n",
       "    <tr>\n",
       "      <th>4</th>\n",
       "      <td>142107.34</td>\n",
       "      <td>91391.77</td>\n",
       "      <td>366168.42</td>\n",
       "      <td>Florida</td>\n",
       "      <td>166187.94</td>\n",
       "    </tr>\n",
       "  </tbody>\n",
       "</table>\n",
       "</div>"
      ],
      "text/plain": [
       "   R&D Spend  Administration  Marketing Spend       State     Profit\n",
       "0  165349.20       136897.80        471784.10    New York  192261.83\n",
       "1  162597.70       151377.59        443898.53  California  191792.06\n",
       "2  153441.51       101145.55        407934.54     Florida  191050.39\n",
       "3  144372.41       118671.85        383199.62    New York  182901.99\n",
       "4  142107.34        91391.77        366168.42     Florida  166187.94"
      ]
     },
     "execution_count": 117,
     "metadata": {},
     "output_type": "execute_result"
    }
   ],
   "source": [
    "dataset.head()"
   ]
  },
  {
   "cell_type": "code",
   "execution_count": 118,
   "id": "52579419",
   "metadata": {},
   "outputs": [],
   "source": [
    "X = dataset.iloc[:,:-1].values\n",
    "y = dataset.iloc[:,4].values"
   ]
  },
  {
   "cell_type": "code",
   "execution_count": 119,
   "id": "49534a42",
   "metadata": {},
   "outputs": [],
   "source": [
    "#Crear dummy variables para la columna State\n",
    "\n",
    "columnTransformer = ColumnTransformer([('encoder', OneHotEncoder(), [3])],     remainder='passthrough')\n",
    "X=np.array(columnTransformer.fit_transform(X),dtype=str)"
   ]
  },
  {
   "cell_type": "code",
   "execution_count": 120,
   "id": "a3eb8514",
   "metadata": {},
   "outputs": [],
   "source": [
    "X = X[:, 1:]"
   ]
  },
  {
   "cell_type": "markdown",
   "id": "70c7e2d9",
   "metadata": {},
   "source": [
    "## Eliminar una columna de variables dummy para evitar el Dummy Variable Trap\n",
    "\n",
    "En este paso, eliminamos la primera columna de las variables dummy (`California`) para evitar el Dummy Variable Trap, que ocurre cuando las variables dummy son completamente lineales entre sí.\n",
    "\n",
    "La sintaxis `X[:, 1:]` significa:\n",
    "\n",
    "- `:`: Selecciona todas las filas.\n",
    "- `1:`: Selecciona todas las columnas a partir de la columna de índice 1 en adelante (excluye la columna de índice 0, que corresponde a `California`).\n",
    "\n",
    "Esto nos permite mantener las columnas `Florida` y `New York`, y eliminar la redundante `California`, lo que evita la multicolinealidad y mejora el rendimiento del modelo.\n",
    "\n",
    "### ¿Por qué eliminar una columna?\n",
    "Si tenemos 4 estados (California, Florida, New York, y otro estado), solo necesitamos 3 columnas para representarlos. Al eliminar una columna, evitamos que el modelo aprenda información redundante, ya que si las tres columnas de las variables dummy son `0`, la observación se puede identificar como el cuarto estado.\n"
   ]
  },
  {
   "cell_type": "code",
   "execution_count": 121,
   "id": "d200bb26",
   "metadata": {},
   "outputs": [],
   "source": [
    "X_train, X_test, y_train, y_test = train_test_split(X,y, test_size = 0.2, random_state = 0)"
   ]
  },
  {
   "cell_type": "code",
   "execution_count": 122,
   "id": "1976604c",
   "metadata": {},
   "outputs": [
    {
     "data": {
      "text/plain": [
       "(array([[1.0000000e+00, 0.0000000e+00, 5.5493950e+04, 1.0305749e+05,\n",
       "         2.1463481e+05],\n",
       "        [0.0000000e+00, 1.0000000e+00, 4.6014020e+04, 8.5047440e+04,\n",
       "         2.0551764e+05],\n",
       "        [1.0000000e+00, 0.0000000e+00, 7.5328870e+04, 1.4413598e+05,\n",
       "         1.3405007e+05],\n",
       "        [0.0000000e+00, 0.0000000e+00, 4.6426070e+04, 1.5769392e+05,\n",
       "         2.1079767e+05],\n",
       "        [1.0000000e+00, 0.0000000e+00, 9.1749160e+04, 1.1417579e+05,\n",
       "         2.9491957e+05],\n",
       "        [1.0000000e+00, 0.0000000e+00, 1.3029813e+05, 1.4553006e+05,\n",
       "         3.2387668e+05],\n",
       "        [1.0000000e+00, 0.0000000e+00, 1.1994324e+05, 1.5654742e+05,\n",
       "         2.5651292e+05],\n",
       "        [0.0000000e+00, 1.0000000e+00, 1.0002300e+03, 1.2415304e+05,\n",
       "         1.9039300e+03],\n",
       "        [0.0000000e+00, 1.0000000e+00, 5.4205000e+02, 5.1743150e+04,\n",
       "         0.0000000e+00],\n",
       "        [0.0000000e+00, 1.0000000e+00, 6.5605480e+04, 1.5303206e+05,\n",
       "         1.0713838e+05],\n",
       "        [0.0000000e+00, 1.0000000e+00, 1.1452361e+05, 1.2261684e+05,\n",
       "         2.6177623e+05],\n",
       "        [1.0000000e+00, 0.0000000e+00, 6.1994480e+04, 1.1564128e+05,\n",
       "         9.1131240e+04],\n",
       "        [0.0000000e+00, 0.0000000e+00, 6.3408860e+04, 1.2921961e+05,\n",
       "         4.6085250e+04],\n",
       "        [0.0000000e+00, 0.0000000e+00, 7.8013110e+04, 1.2159755e+05,\n",
       "         2.6434606e+05],\n",
       "        [0.0000000e+00, 0.0000000e+00, 2.3640930e+04, 9.6189630e+04,\n",
       "         1.4800111e+05],\n",
       "        [0.0000000e+00, 0.0000000e+00, 7.6253860e+04, 1.1386730e+05,\n",
       "         2.9866447e+05],\n",
       "        [0.0000000e+00, 1.0000000e+00, 1.5505730e+04, 1.2738230e+05,\n",
       "         3.5534170e+04],\n",
       "        [0.0000000e+00, 1.0000000e+00, 1.2054252e+05, 1.4871895e+05,\n",
       "         3.1161329e+05],\n",
       "        [0.0000000e+00, 0.0000000e+00, 9.1992390e+04, 1.3549507e+05,\n",
       "         2.5266493e+05],\n",
       "        [0.0000000e+00, 0.0000000e+00, 6.4664710e+04, 1.3955316e+05,\n",
       "         1.3796262e+05],\n",
       "        [0.0000000e+00, 1.0000000e+00, 1.3187690e+05, 9.9814710e+04,\n",
       "         3.6286136e+05],\n",
       "        [0.0000000e+00, 1.0000000e+00, 9.4657160e+04, 1.4507758e+05,\n",
       "         2.8257431e+05],\n",
       "        [0.0000000e+00, 0.0000000e+00, 2.8754330e+04, 1.1854605e+05,\n",
       "         1.7279567e+05],\n",
       "        [0.0000000e+00, 0.0000000e+00, 0.0000000e+00, 1.1698380e+05,\n",
       "         4.5173060e+04],\n",
       "        [0.0000000e+00, 0.0000000e+00, 1.6259770e+05, 1.5137759e+05,\n",
       "         4.4389853e+05],\n",
       "        [1.0000000e+00, 0.0000000e+00, 9.3863750e+04, 1.2732038e+05,\n",
       "         2.4983944e+05],\n",
       "        [0.0000000e+00, 0.0000000e+00, 4.4069950e+04, 5.1283140e+04,\n",
       "         1.9702942e+05],\n",
       "        [0.0000000e+00, 1.0000000e+00, 7.7044010e+04, 9.9281340e+04,\n",
       "         1.4057481e+05],\n",
       "        [0.0000000e+00, 0.0000000e+00, 1.3461546e+05, 1.4719887e+05,\n",
       "         1.2771682e+05],\n",
       "        [1.0000000e+00, 0.0000000e+00, 6.7532530e+04, 1.0575103e+05,\n",
       "         3.0476873e+05],\n",
       "        [1.0000000e+00, 0.0000000e+00, 2.8663760e+04, 1.2705621e+05,\n",
       "         2.0112682e+05],\n",
       "        [0.0000000e+00, 1.0000000e+00, 7.8389470e+04, 1.5377343e+05,\n",
       "         2.9973729e+05],\n",
       "        [0.0000000e+00, 1.0000000e+00, 8.6419700e+04, 1.5351411e+05,\n",
       "         0.0000000e+00],\n",
       "        [0.0000000e+00, 0.0000000e+00, 1.2333488e+05, 1.0867917e+05,\n",
       "         3.0498162e+05],\n",
       "        [0.0000000e+00, 0.0000000e+00, 3.8558510e+04, 8.2982090e+04,\n",
       "         1.7499930e+05],\n",
       "        [1.0000000e+00, 0.0000000e+00, 1.3154600e+03, 1.1581621e+05,\n",
       "         2.9711446e+05],\n",
       "        [0.0000000e+00, 1.0000000e+00, 1.4437241e+05, 1.1867185e+05,\n",
       "         3.8319962e+05],\n",
       "        [0.0000000e+00, 1.0000000e+00, 1.6534920e+05, 1.3689780e+05,\n",
       "         4.7178410e+05],\n",
       "        [0.0000000e+00, 0.0000000e+00, 0.0000000e+00, 1.3542692e+05,\n",
       "         0.0000000e+00],\n",
       "        [0.0000000e+00, 0.0000000e+00, 2.2177740e+04, 1.5480614e+05,\n",
       "         2.8334720e+04]]),\n",
       " array([ 96778.92,  96479.51, 105733.54,  96712.8 , 124266.9 , 155752.6 ,\n",
       "        132602.65,  64926.08,  35673.41, 101004.64, 129917.04,  99937.59,\n",
       "         97427.84, 126992.93,  71498.49, 118474.03,  69758.98, 152211.77,\n",
       "        134307.35, 107404.34, 156991.12, 125370.37,  78239.91,  14681.4 ,\n",
       "        191792.06, 141585.52,  89949.14, 108552.04, 156122.51, 108733.99,\n",
       "         90708.19, 111313.02, 122776.86, 149759.96,  81005.76,  49490.75,\n",
       "        182901.99, 192261.83,  42559.73,  65200.33]))"
      ]
     },
     "execution_count": 122,
     "metadata": {},
     "output_type": "execute_result"
    }
   ],
   "source": [
    "X_train = X_train.astype(float)\n",
    "y_train = y_train.astype(float)\n",
    "X_test = X_test.astype(float)\n",
    "y_test = y_test.astype(float)\n",
    "X_train, y_train"
   ]
  },
  {
   "cell_type": "code",
   "execution_count": 123,
   "id": "e6f3943c",
   "metadata": {},
   "outputs": [
    {
     "data": {
      "text/html": [
       "<style>#sk-container-id-3 {color: black;}#sk-container-id-3 pre{padding: 0;}#sk-container-id-3 div.sk-toggleable {background-color: white;}#sk-container-id-3 label.sk-toggleable__label {cursor: pointer;display: block;width: 100%;margin-bottom: 0;padding: 0.3em;box-sizing: border-box;text-align: center;}#sk-container-id-3 label.sk-toggleable__label-arrow:before {content: \"▸\";float: left;margin-right: 0.25em;color: #696969;}#sk-container-id-3 label.sk-toggleable__label-arrow:hover:before {color: black;}#sk-container-id-3 div.sk-estimator:hover label.sk-toggleable__label-arrow:before {color: black;}#sk-container-id-3 div.sk-toggleable__content {max-height: 0;max-width: 0;overflow: hidden;text-align: left;background-color: #f0f8ff;}#sk-container-id-3 div.sk-toggleable__content pre {margin: 0.2em;color: black;border-radius: 0.25em;background-color: #f0f8ff;}#sk-container-id-3 input.sk-toggleable__control:checked~div.sk-toggleable__content {max-height: 200px;max-width: 100%;overflow: auto;}#sk-container-id-3 input.sk-toggleable__control:checked~label.sk-toggleable__label-arrow:before {content: \"▾\";}#sk-container-id-3 div.sk-estimator input.sk-toggleable__control:checked~label.sk-toggleable__label {background-color: #d4ebff;}#sk-container-id-3 div.sk-label input.sk-toggleable__control:checked~label.sk-toggleable__label {background-color: #d4ebff;}#sk-container-id-3 input.sk-hidden--visually {border: 0;clip: rect(1px 1px 1px 1px);clip: rect(1px, 1px, 1px, 1px);height: 1px;margin: -1px;overflow: hidden;padding: 0;position: absolute;width: 1px;}#sk-container-id-3 div.sk-estimator {font-family: monospace;background-color: #f0f8ff;border: 1px dotted black;border-radius: 0.25em;box-sizing: border-box;margin-bottom: 0.5em;}#sk-container-id-3 div.sk-estimator:hover {background-color: #d4ebff;}#sk-container-id-3 div.sk-parallel-item::after {content: \"\";width: 100%;border-bottom: 1px solid gray;flex-grow: 1;}#sk-container-id-3 div.sk-label:hover label.sk-toggleable__label {background-color: #d4ebff;}#sk-container-id-3 div.sk-serial::before {content: \"\";position: absolute;border-left: 1px solid gray;box-sizing: border-box;top: 0;bottom: 0;left: 50%;z-index: 0;}#sk-container-id-3 div.sk-serial {display: flex;flex-direction: column;align-items: center;background-color: white;padding-right: 0.2em;padding-left: 0.2em;position: relative;}#sk-container-id-3 div.sk-item {position: relative;z-index: 1;}#sk-container-id-3 div.sk-parallel {display: flex;align-items: stretch;justify-content: center;background-color: white;position: relative;}#sk-container-id-3 div.sk-item::before, #sk-container-id-3 div.sk-parallel-item::before {content: \"\";position: absolute;border-left: 1px solid gray;box-sizing: border-box;top: 0;bottom: 0;left: 50%;z-index: -1;}#sk-container-id-3 div.sk-parallel-item {display: flex;flex-direction: column;z-index: 1;position: relative;background-color: white;}#sk-container-id-3 div.sk-parallel-item:first-child::after {align-self: flex-end;width: 50%;}#sk-container-id-3 div.sk-parallel-item:last-child::after {align-self: flex-start;width: 50%;}#sk-container-id-3 div.sk-parallel-item:only-child::after {width: 0;}#sk-container-id-3 div.sk-dashed-wrapped {border: 1px dashed gray;margin: 0 0.4em 0.5em 0.4em;box-sizing: border-box;padding-bottom: 0.4em;background-color: white;}#sk-container-id-3 div.sk-label label {font-family: monospace;font-weight: bold;display: inline-block;line-height: 1.2em;}#sk-container-id-3 div.sk-label-container {text-align: center;}#sk-container-id-3 div.sk-container {/* jupyter's `normalize.less` sets `[hidden] { display: none; }` but bootstrap.min.css set `[hidden] { display: none !important; }` so we also need the `!important` here to be able to override the default hidden behavior on the sphinx rendered scikit-learn.org. See: https://github.com/scikit-learn/scikit-learn/issues/21755 */display: inline-block !important;position: relative;}#sk-container-id-3 div.sk-text-repr-fallback {display: none;}</style><div id=\"sk-container-id-3\" class=\"sk-top-container\"><div class=\"sk-text-repr-fallback\"><pre>LinearRegression()</pre><b>In a Jupyter environment, please rerun this cell to show the HTML representation or trust the notebook. <br />On GitHub, the HTML representation is unable to render, please try loading this page with nbviewer.org.</b></div><div class=\"sk-container\" hidden><div class=\"sk-item\"><div class=\"sk-estimator sk-toggleable\"><input class=\"sk-toggleable__control sk-hidden--visually\" id=\"sk-estimator-id-3\" type=\"checkbox\" checked><label for=\"sk-estimator-id-3\" class=\"sk-toggleable__label sk-toggleable__label-arrow\">LinearRegression</label><div class=\"sk-toggleable__content\"><pre>LinearRegression()</pre></div></div></div></div></div>"
      ],
      "text/plain": [
       "LinearRegression()"
      ]
     },
     "execution_count": 123,
     "metadata": {},
     "output_type": "execute_result"
    }
   ],
   "source": [
    "regressor = LinearRegression()\n",
    "regressor.fit(X_train,y_train)"
   ]
  },
  {
   "cell_type": "code",
   "execution_count": 124,
   "id": "25add380",
   "metadata": {},
   "outputs": [
    {
     "data": {
      "text/plain": [
       "array([103015.20159796, 132582.27760815, 132447.73845175,  71976.09851258,\n",
       "       178537.48221056, 116161.24230166,  67851.69209676,  98791.73374687,\n",
       "       113969.43533013, 167921.06569551])"
      ]
     },
     "execution_count": 124,
     "metadata": {},
     "output_type": "execute_result"
    }
   ],
   "source": [
    "y_pred = regressor.predict(X_test)\n",
    "y_pred"
   ]
  },
  {
   "cell_type": "code",
   "execution_count": 125,
   "id": "a2947a86",
   "metadata": {},
   "outputs": [
    {
     "data": {
      "text/plain": [
       "array([103282.38, 144259.4 , 146121.95,  77798.83, 191050.39, 105008.31,\n",
       "        81229.06,  97483.56, 110352.25, 166187.94])"
      ]
     },
     "execution_count": 125,
     "metadata": {},
     "output_type": "execute_result"
    }
   ],
   "source": [
    "y_test"
   ]
  },
  {
   "cell_type": "code",
   "execution_count": 126,
   "id": "a04721ff",
   "metadata": {},
   "outputs": [
    {
     "name": "stdout",
     "output_type": "stream",
     "text": [
      "Accuracy of the model is 93.47068473282447 %\n"
     ]
    }
   ],
   "source": [
    "accuracy = regressor.score(X_test,y_test)\n",
    "print('Accuracy of the model is',accuracy*100,'%')"
   ]
  },
  {
   "cell_type": "markdown",
   "id": "ab9fec65",
   "metadata": {},
   "source": [
    "## 2. Regresión Polinómica\n",
    "\n",
    "En estadística, la **regresión polinómica** es una forma de análisis de regresión en la que la relación entre la variable independiente \\(x\\) y la variable dependiente \\(y\\) se modela como un polinomio de grado \\(n\\) en \\(x\\). La regresión polinómica ajusta una relación no lineal entre el valor de \\(x\\) y la media condicional correspondiente de \\(y\\), denotada como \\(E(y | x)\\).\n",
    "\n",
    "### Características:\n",
    "- La regresión polinómica es útil cuando los datos muestran una relación no lineal.\n",
    "- A diferencia de la regresión lineal, la regresión polinómica puede modelar curvas y otros comportamientos complejos en los datos.\n",
    "\n",
    "### Ejemplo de fórmula:\n",
    "Si se tiene una relación de segundo grado, la regresión polinómica se puede expresar como:\n",
    "\n",
    "\\[\n",
    "y = \\beta_0 + \\beta_1x + \\beta_2x^2 + \\epsilon\n",
    "\\]\n",
    "\n",
    "donde:\n",
    "- \\( \\beta_0 \\) es el intercepto,\n",
    "- \\( \\beta_1 \\) y \\( \\beta_2 \\) son los coeficientes del modelo,\n",
    "- \\( x^2 \\) es el término cuadrático,\n",
    "- \\( \\epsilon \\) es el término de error.\n",
    "\n",
    "La regresión polinómica es particularmente útil para capturar relaciones más complejas entre variables cuando la regresión lineal no es suficiente.\n"
   ]
  },
  {
   "cell_type": "code",
   "execution_count": 131,
   "id": "f36d532b",
   "metadata": {},
   "outputs": [
    {
     "data": {
      "text/html": [
       "<div>\n",
       "<style scoped>\n",
       "    .dataframe tbody tr th:only-of-type {\n",
       "        vertical-align: middle;\n",
       "    }\n",
       "\n",
       "    .dataframe tbody tr th {\n",
       "        vertical-align: top;\n",
       "    }\n",
       "\n",
       "    .dataframe thead th {\n",
       "        text-align: right;\n",
       "    }\n",
       "</style>\n",
       "<table border=\"1\" class=\"dataframe\">\n",
       "  <thead>\n",
       "    <tr style=\"text-align: right;\">\n",
       "      <th></th>\n",
       "      <th>Position</th>\n",
       "      <th>Level</th>\n",
       "      <th>Salary</th>\n",
       "    </tr>\n",
       "  </thead>\n",
       "  <tbody>\n",
       "    <tr>\n",
       "      <th>0</th>\n",
       "      <td>Business Analyst</td>\n",
       "      <td>1</td>\n",
       "      <td>45000</td>\n",
       "    </tr>\n",
       "    <tr>\n",
       "      <th>1</th>\n",
       "      <td>Junior Consultant</td>\n",
       "      <td>2</td>\n",
       "      <td>50000</td>\n",
       "    </tr>\n",
       "    <tr>\n",
       "      <th>2</th>\n",
       "      <td>Senior Consultant</td>\n",
       "      <td>3</td>\n",
       "      <td>60000</td>\n",
       "    </tr>\n",
       "    <tr>\n",
       "      <th>3</th>\n",
       "      <td>Manager</td>\n",
       "      <td>4</td>\n",
       "      <td>80000</td>\n",
       "    </tr>\n",
       "    <tr>\n",
       "      <th>4</th>\n",
       "      <td>Country Manager</td>\n",
       "      <td>5</td>\n",
       "      <td>110000</td>\n",
       "    </tr>\n",
       "    <tr>\n",
       "      <th>5</th>\n",
       "      <td>Region Manager</td>\n",
       "      <td>6</td>\n",
       "      <td>150000</td>\n",
       "    </tr>\n",
       "    <tr>\n",
       "      <th>6</th>\n",
       "      <td>Partner</td>\n",
       "      <td>7</td>\n",
       "      <td>200000</td>\n",
       "    </tr>\n",
       "    <tr>\n",
       "      <th>7</th>\n",
       "      <td>Senior Partner</td>\n",
       "      <td>8</td>\n",
       "      <td>300000</td>\n",
       "    </tr>\n",
       "    <tr>\n",
       "      <th>8</th>\n",
       "      <td>C-level</td>\n",
       "      <td>9</td>\n",
       "      <td>500000</td>\n",
       "    </tr>\n",
       "    <tr>\n",
       "      <th>9</th>\n",
       "      <td>CEO</td>\n",
       "      <td>10</td>\n",
       "      <td>1000000</td>\n",
       "    </tr>\n",
       "  </tbody>\n",
       "</table>\n",
       "</div>"
      ],
      "text/plain": [
       "            Position  Level   Salary\n",
       "0   Business Analyst      1    45000\n",
       "1  Junior Consultant      2    50000\n",
       "2  Senior Consultant      3    60000\n",
       "3            Manager      4    80000\n",
       "4    Country Manager      5   110000\n",
       "5     Region Manager      6   150000\n",
       "6            Partner      7   200000\n",
       "7     Senior Partner      8   300000\n",
       "8            C-level      9   500000\n",
       "9                CEO     10  1000000"
      ]
     },
     "metadata": {},
     "output_type": "display_data"
    }
   ],
   "source": [
    "dataset = pd.read_csv(\"MLDatasets/Position_Salaries.csv\")\n",
    "display(dataset)"
   ]
  },
  {
   "cell_type": "code",
   "execution_count": null,
   "id": "d1671faf",
   "metadata": {},
   "outputs": [],
   "source": [
    "}"
   ]
  }
 ],
 "metadata": {
  "kernelspec": {
   "display_name": "Python 3 (ipykernel)",
   "language": "python",
   "name": "python3"
  },
  "language_info": {
   "codemirror_mode": {
    "name": "ipython",
    "version": 3
   },
   "file_extension": ".py",
   "mimetype": "text/x-python",
   "name": "python",
   "nbconvert_exporter": "python",
   "pygments_lexer": "ipython3",
   "version": "3.11.4"
  }
 },
 "nbformat": 4,
 "nbformat_minor": 5
}
